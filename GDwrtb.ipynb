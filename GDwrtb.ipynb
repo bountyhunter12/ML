{
  "cells": [
    {
      "cell_type": "markdown",
      "metadata": {
        "id": "view-in-github",
        "colab_type": "text"
      },
      "source": [
        "<a href=\"https://colab.research.google.com/github/bountyhunter12/ML/blob/main/GDwrtb.ipynb\" target=\"_parent\"><img src=\"https://colab.research.google.com/assets/colab-badge.svg\" alt=\"Open In Colab\"/></a>"
      ]
    },
    {
      "cell_type": "code",
      "execution_count": 59,
      "metadata": {
        "id": "xKKQWJVPC9u9"
      },
      "outputs": [],
      "source": [
        "from sklearn.datasets import make_regression\n",
        "import numpy as np"
      ]
    },
    {
      "cell_type": "code",
      "execution_count": 60,
      "metadata": {
        "id": "FL52rkvJbUhg"
      },
      "outputs": [],
      "source": [
        "X,y = make_regression(n_samples=100,n_features=1,n_informative=1,n_targets=1,noise=20)"
      ]
    },
    {
      "cell_type": "code",
      "execution_count": 61,
      "metadata": {
        "colab": {
          "base_uri": "https://localhost:8080/",
          "height": 447
        },
        "id": "R0AEQr4cbefC",
        "outputId": "9d68872b-540f-4e65-95f9-2c067028a03e"
      },
      "outputs": [
        {
          "output_type": "execute_result",
          "data": {
            "text/plain": [
              "<matplotlib.collections.PathCollection at 0x7f09b7760880>"
            ]
          },
          "metadata": {},
          "execution_count": 61
        },
        {
          "output_type": "display_data",
          "data": {
            "text/plain": [
              "<Figure size 640x480 with 1 Axes>"
            ],
            "image/png": "[encoded data removed]"
          },
          "metadata": {}
        }
      ],
      "source": [
        "import matplotlib.pyplot as plt\n",
        "plt.scatter(X,y)"
      ]
    },
    {
      "cell_type": "code",
      "execution_count": 62,
      "metadata": {
        "id": "hq3Akl3TDzZl"
      },
      "outputs": [],
      "source": [
        "#Lets apply OLS\n",
        "from sklearn.linear_model import LinearRegression"
      ]
    },
    {
      "cell_type": "code",
      "execution_count": 63,
      "metadata": {
        "colab": {
          "base_uri": "https://localhost:8080/",
          "height": 74
        },
        "id": "aJXWsP6OEKPM",
        "outputId": "ced8b0ff-ad63-453c-bb5c-69d810cfe9f9"
      },
      "outputs": [
        {
          "output_type": "execute_result",
          "data": {
            "text/plain": [
              "LinearRegression()"
            ],
            "text/html": [
              "<style>#sk-container-id-6 {color: black;background-color: white;}#sk-container-id-6 pre{padding: 0;}#sk-container-id-6 div.sk-toggleable {background-color: white;}#sk-container-id-6 label.sk-toggleable__label {cursor: pointer;display: block;width: 100%;margin-bottom: 0;padding: 0.3em;box-sizing: border-box;text-align: center;}#sk-container-id-6 label.sk-toggleable__label-arrow:before {content: \"▸\";float: left;margin-right: 0.25em;color: #696969;}#sk-container-id-6 label.sk-toggleable__label-arrow:hover:before {color: black;}#sk-container-id-6 div.sk-estimator:hover label.sk-toggleable__label-arrow:before {color: black;}#sk-container-id-6 div.sk-toggleable__content {max-height: 0;max-width: 0;overflow: hidden;text-align: left;background-color: #f0f8ff;}#sk-container-id-6 div.sk-toggleable__content pre {margin: 0.2em;color: black;border-radius: 0.25em;background-color: #f0f8ff;}#sk-container-id-6 input.sk-toggleable__control:checked~div.sk-toggleable__content {max-height: 200px;max-width: 100%;overflow: auto;}#sk-container-id-6 input.sk-toggleable__control:checked~label.sk-toggleable__label-arrow:before {content: \"▾\";}#sk-container-id-6 div.sk-estimator input.sk-toggleable__control:checked~label.sk-toggleable__label {background-color: #d4ebff;}#sk-container-id-6 div.sk-label input.sk-toggleable__control:checked~label.sk-toggleable__label {background-color: #d4ebff;}#sk-container-id-6 input.sk-hidden--visually {border: 0;clip: rect(1px 1px 1px 1px);clip: rect(1px, 1px, 1px, 1px);height: 1px;margin: -1px;overflow: hidden;padding: 0;position: absolute;width: 1px;}#sk-container-id-6 div.sk-estimator {font-family: monospace;background-color: #f0f8ff;border: 1px dotted black;border-radius: 0.25em;box-sizing: border-box;margin-bottom: 0.5em;}#sk-container-id-6 div.sk-estimator:hover {background-color: #d4ebff;}#sk-container-id-6 div.sk-parallel-item::after {content: \"\";width: 100%;border-bottom: 1px solid gray;flex-grow: 1;}#sk-container-id-6 div.sk-label:hover label.sk-toggleable__label {background-color: #d4ebff;}#sk-container-id-6 div.sk-serial::before {content: \"\";position: absolute;border-left: 1px solid gray;box-sizing: border-box;top: 0;bottom: 0;left: 50%;z-index: 0;}#sk-container-id-6 div.sk-serial {display: flex;flex-direction: column;align-items: center;background-color: white;padding-right: 0.2em;padding-left: 0.2em;position: relative;}#sk-container-id-6 div.sk-item {position: relative;z-index: 1;}#sk-container-id-6 div.sk-parallel {display: flex;align-items: stretch;justify-content: center;background-color: white;position: relative;}#sk-container-id-6 div.sk-item::before, #sk-container-id-6 div.sk-parallel-item::before {content: \"\";position: absolute;border-left: 1px solid gray;box-sizing: border-box;top: 0;bottom: 0;left: 50%;z-index: -1;}#sk-container-id-6 div.sk-parallel-item {display: flex;flex-direction: column;z-index: 1;position: relative;background-color: white;}#sk-container-id-6 div.sk-parallel-item:first-child::after {align-self: flex-end;width: 50%;}#sk-container-id-6 div.sk-parallel-item:last-child::after {align-self: flex-start;width: 50%;}#sk-container-id-6 div.sk-parallel-item:only-child::after {width: 0;}#sk-container-id-6 div.sk-dashed-wrapped {border: 1px dashed gray;margin: 0 0.4em 0.5em 0.4em;box-sizing: border-box;padding-bottom: 0.4em;background-color: white;}#sk-container-id-6 div.sk-label label {font-family: monospace;font-weight: bold;display: inline-block;line-height: 1.2em;}#sk-container-id-6 div.sk-label-container {text-align: center;}#sk-container-id-6 div.sk-container {/* jupyter's `normalize.less` sets `[hidden] { display: none; }` but bootstrap.min.css set `[hidden] { display: none !important; }` so we also need the `!important` here to be able to override the default hidden behavior on the sphinx rendered scikit-learn.org. See: https://github.com/scikit-learn/scikit-learn/issues/21755 */display: inline-block !important;position: relative;}#sk-container-id-6 div.sk-text-repr-fallback {display: none;}</style><div id=\"sk-container-id-6\" class=\"sk-top-container\"><div class=\"sk-text-repr-fallback\"><pre>LinearRegression()</pre><b>In a Jupyter environment, please rerun this cell to show the HTML representation or trust the notebook. <br />On GitHub, the HTML representation is unable to render, please try loading this page with nbviewer.org.</b></div><div class=\"sk-container\" hidden><div class=\"sk-item\"><div class=\"sk-estimator sk-toggleable\"><input class=\"sk-toggleable__control sk-hidden--visually\" id=\"sk-estimator-id-6\" type=\"checkbox\" checked><label for=\"sk-estimator-id-6\" class=\"sk-toggleable__label sk-toggleable__label-arrow\">LinearRegression</label><div class=\"sk-toggleable__content\"><pre>LinearRegression()</pre></div></div></div></div></div>"
            ]
          },
          "metadata": {},
          "execution_count": 63
        }
      ],
      "source": [
        "lr = LinearRegression()\n",
        "lr.fit(X,y)\n"
      ]
    },
    {
      "cell_type": "code",
      "execution_count": 64,
      "metadata": {
        "colab": {
          "base_uri": "https://localhost:8080/"
        },
        "id": "vPil7yusEgQ-",
        "outputId": "fa1aab4b-fc9b-41b9-8226-6dea8fe8e0f4"
      },
      "outputs": [
        {
          "output_type": "execute_result",
          "data": {
            "text/plain": [
              "array([96.11949767])"
            ]
          },
          "metadata": {},
          "execution_count": 64
        }
      ],
      "source": [
        "lr.coef_"
      ]
    },
    {
      "cell_type": "code",
      "execution_count": 65,
      "metadata": {
        "colab": {
          "base_uri": "https://localhost:8080/"
        },
        "id": "JrTnoUZ5EiIC",
        "outputId": "3a7c0ec3-c72f-40c2-ebaf-9cd1e582af2b"
      },
      "outputs": [
        {
          "output_type": "execute_result",
          "data": {
            "text/plain": [
              "0.8627156662643438"
            ]
          },
          "metadata": {},
          "execution_count": 65
        }
      ],
      "source": [
        "lr.intercept_"
      ]
    },
    {
      "cell_type": "code",
      "execution_count": 66,
      "metadata": {
        "colab": {
          "base_uri": "https://localhost:8080/",
          "height": 447
        },
        "id": "0GWmfVvJE4uC",
        "outputId": "3e8354f0-2c9c-4e14-93ac-2e26daa410c0"
      },
      "outputs": [
        {
          "output_type": "execute_result",
          "data": {
            "text/plain": [
              "[<matplotlib.lines.Line2D at 0x7f09b77c6740>]"
            ]
          },
          "metadata": {},
          "execution_count": 66
        },
        {
          "output_type": "display_data",
          "data": {
            "text/plain": [
              "<Figure size 640x480 with 1 Axes>"
            ],
            "image/png": "[encoded data removed]"
          },
          "metadata": {}
        }
      ],
      "source": [
        "plt.scatter(X,y)\n",
        "plt.plot(X,lr.predict(X),color='red')"
      ]
    },
    {
      "cell_type": "code",
      "execution_count": 67,
      "metadata": {
        "id": "hU1Z6XknFkYV"
      },
      "outputs": [],
      "source": [
        "m = 56.69"
      ]
    },
    {
      "cell_type": "code",
      "execution_count": 73,
      "metadata": {
        "id": "Z6BTuNVBF_Q9"
      },
      "outputs": [],
      "source": [
        "class GD:\n",
        "  def __init__(self,learning_rate,epochs):\n",
        "    self.m = 56.69\n",
        "    self.b = -120\n",
        "    self.lr = learning_rate\n",
        "    self.epochs = epochs\n",
        "  def fit(self,X,y):\n",
        "    for i in range(self.epochs):\n",
        "      loss_slope = -2 * np.sum(y - self.m*X.ravel() - self.b)\n",
        "      self.b = self.b - (loss_slope*self.lr)\n",
        "      print(loss_slope,self.b)\n",
        "    print(self.b)\n",
        "\n"
      ]
    },
    {
      "cell_type": "code",
      "execution_count": 80,
      "metadata": {
        "id": "Im03Zh18GIRd"
      },
      "outputs": [],
      "source": [
        "gd = GD(0.001,100)"
      ]
    },
    {
      "cell_type": "code",
      "execution_count": 81,
      "metadata": {
        "colab": {
          "base_uri": "https://localhost:8080/"
        },
        "id": "XWjj_wkjGLzc",
        "outputId": "52c706ca-5cca-4c1e-91ef-4e43fae82070"
      },
      "outputs": [
        {
          "output_type": "stream",
          "name": "stdout",
          "text": [
            "-24559.112420682668 -95.44088757931733\n",
            "-19647.28993654613 -75.7935976427712\n",
            "-15717.831949236908 -60.075765693534294\n",
            "-12574.265559389527 -47.50150013414476\n",
            "-10059.412447511619 -37.442087686633144\n",
            "-8047.529958009297 -29.394557728623845\n",
            "-6438.023966407437 -22.95653376221641\n",
            "-5150.419173125949 -17.806114589090463\n",
            "-4120.33533850076 -13.685779250589702\n",
            "-3296.2682708006087 -10.389510979789094\n",
            "-2637.014616640487 -7.752496363148607\n",
            "-2109.6116933123894 -5.642884669836217\n",
            "-1687.6893546499116 -3.9551953151863053\n",
            "-1350.1514837199288 -2.6050438314663764\n",
            "-1080.1211869759431 -1.5249226444904334\n",
            "-864.0969495807544 -0.6608256949096789\n",
            "-691.2775596646034 0.03045186475492445\n",
            "-553.0220477316834 0.5834739124866078\n",
            "-442.41763818534605 1.025891550671954\n",
            "-353.93411054827703 1.3798256612202309\n",
            "-283.1472884386218 1.6629729496588528\n",
            "-226.51783075089767 1.8894907804097505\n",
            "-181.21426460071783 2.0707050450104685\n",
            "-144.971411680574 2.2156764566910425\n",
            "-115.97712934445951 2.331653586035502\n",
            "-92.78170347556778 2.4244352895110697\n",
            "-74.2253627804543 2.498660652291524\n",
            "-59.38029022436304 2.558040942515887\n",
            "-47.50423217949054 2.605545174695378\n",
            "-38.00338574359212 2.64354856043897\n",
            "-30.402708594873744 2.673951269033844\n",
            "-24.322166875899185 2.698273435909743\n",
            "-19.457733500719556 2.7177311694104627\n",
            "-15.566186800575494 2.7332973562110383\n",
            "-12.452949440460102 2.7457503056514985\n",
            "-9.962359552368255 2.7557126652038666\n",
            "-7.969887641894289 2.763682552845761\n",
            "-6.375910113515701 2.770058462959277\n",
            "-5.100728090812751 2.7751591910500895\n",
            "-4.0805824726499935 2.7792397735227397\n",
            "-3.2644659781201852 2.78250423950086\n",
            "-2.611572782495685 2.7851158122833555\n",
            "-2.089258225996886 2.7872050705093523\n",
            "-1.671406580797381 2.7888764770901497\n",
            "-1.3371252646378053 2.7902136023547874\n",
            "-1.0697002117105257 2.791283302566498\n",
            "-0.8557601693683665 2.7921390627358664\n",
            "-0.6846081354947131 2.792823670871361\n",
            "-0.5476865083956142 2.7933713573797565\n",
            "-0.4381492067169148 2.793809506586473\n",
            "-0.3505193653736143 2.7941600259518466\n",
            "-0.28041549229861573 2.794440441444145\n",
            "-0.22433239383873627 2.794664773837984\n",
            "-0.1794659150711908 2.794844239753055\n",
            "-0.14357273205682475 2.794987812485112\n",
            "-0.11485818564536032 2.795102670670757\n",
            "-0.09188654851642752 2.7951945572192733\n",
            "-0.07350923881308802 2.7952680664580862\n",
            "-0.058807391050706315 2.795326873849137\n",
            "-0.04704591284077253 2.795373919761978\n",
            "-0.03763673027246739 2.79541155649225\n",
            "-0.030109384217766433 2.795441665876468\n",
            "-0.024087507374431993 2.7954657533838425\n",
            "-0.019270005899429066 2.795485023389742\n",
            "-0.015416004719227772 2.7955004393944614\n",
            "-0.012332803775862544 2.7955127721982374\n",
            "-0.009866243020567822 2.7955226384412577\n",
            "-0.00789299441653668 2.7955305314356744\n",
            "-0.006314395533152606 2.7955368458312075\n",
            "-0.0050515164263202905 2.795541897347634\n",
            "-0.0040412131412068675 2.795545938560775\n",
            "-0.003232970512684119 2.7955491715312877\n",
            "-0.002586376410491198 2.795551757907698\n",
            "-0.0020691011283275884 2.7955538270088263\n",
            "-0.0016552809026535442 2.795555482289729\n",
            "-0.001324224722182521 2.795556806514451\n",
            "-0.0010593797774447467 2.7955578658942284\n",
            "-0.0008475038221291697 2.7955587133980506\n",
            "-0.0006780030577857588 2.7955593914011083\n",
            "-0.0005424024461575527 2.7955599338035544\n",
            "-0.00043392195699709646 2.7955603677255114\n",
            "-0.00034713756544135776 2.795560714863077\n",
            "-0.0002777100525719334 2.7955609925731295\n",
            "-0.00022216804207175755 2.7955612147411717\n",
            "-0.00017773443376256637 2.7955613924756055\n",
            "-0.000142187546842365 2.795561534663152\n",
            "-0.0001137500376700018 2.79556164841319\n",
            "-9.100002993989165e-05 2.7955617394132197\n",
            "-7.280002415654963e-05 2.795561812213244\n",
            "-5.824001895859965e-05 2.795561870453263\n",
            "-4.6592015067403736e-05 2.795561917045278\n",
            "-3.72736125910933e-05 2.7955619543188908\n",
            "-2.9818889785815372e-05 2.7955619841377803\n",
            "-2.3855112033288606e-05 2.7955620079928925\n",
            "-1.9084089259990833e-05 2.795562027076982\n",
            "-1.526727147904694e-05 2.7955620423442533\n",
            "-1.2213817157658013e-05 2.7955620545580704\n",
            "-9.771053797180684e-06 2.795562064329124\n",
            "-7.81684313722053e-06 2.7955620721459673\n",
            "-6.253474239770185e-06 2.7955620783994415\n",
            "2.7955620783994415\n"
          ]
        }
      ],
      "source": [
        "gd.fit(X,y)"
      ]
    }
  ],
  "metadata": {
    "colab": {
      "provenance": [],
      "authorship_tag": "ABX9TyPqSRCyO9elpXsRoqE1nEPl",
      "include_colab_link": true
    },
    "kernelspec": {
      "display_name": "Python 3",
      "name": "python3"
    },
    "language_info": {
      "name": "python"
    }
  },
  "nbformat": 4,
  "nbformat_minor": 0
}
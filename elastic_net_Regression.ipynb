{
  "nbformat": 4,
  "nbformat_minor": 0,
  "metadata": {
    "colab": {
      "provenance": [],
      "authorship_tag": "ABX9TyOd9bWra2lA4LlzlKPLN6pH",
      "include_colab_link": true
    },
    "kernelspec": {
      "name": "python3",
      "display_name": "Python 3"
    },
    "language_info": {
      "name": "python"
    }
  },
  "cells": [
    {
      "cell_type": "markdown",
      "metadata": {
        "id": "view-in-github",
        "colab_type": "text"
      },
      "source": [
        "<a href=\"https://colab.research.google.com/github/bountyhunter12/ML/blob/main/elastic_net_Regression.ipynb\" target=\"_parent\"><img src=\"https://colab.research.google.com/assets/colab-badge.svg\" alt=\"Open In Colab\"/></a>"
      ]
    },
    {
      "cell_type": "code",
      "execution_count": 1,
      "metadata": {
        "id": "K-w_CyF6R8ig"
      },
      "outputs": [],
      "source": [
        "from sklearn.datasets import load_diabetes\n",
        "from sklearn.metrics import r2_score\n",
        "from sklearn.linear_model import LinearRegression,Ridge,Lasso,ElasticNet\n",
        "import numpy as np\n",
        "import pandas as pd\n",
        "\n",
        "import matplotlib.pyplot as plt"
      ]
    },
    {
      "cell_type": "code",
      "source": [
        "X,y = load_diabetes(return_X_y=True)"
      ],
      "metadata": {
        "id": "z4gnr7omR_5e"
      },
      "execution_count": 2,
      "outputs": []
    },
    {
      "cell_type": "code",
      "source": [
        "from sklearn.model_selection import train_test_split\n",
        "X_train,X_test,y_train,y_test = train_test_split(X,y,test_size=0.2,random_state=2)\n"
      ],
      "metadata": {
        "id": "1s0xQuUiSCea"
      },
      "execution_count": 3,
      "outputs": []
    },
    {
      "cell_type": "code",
      "source": [
        "r = LinearRegression()\n",
        "r.fit(X_train,y_train)\n",
        "y_pred = r.predict(X_test)\n",
        "print(r2_score(y_test,y_pred))\n",
        "print(r.coef_)\n",
        "print(r.intercept_)"
      ],
      "metadata": {
        "colab": {
          "base_uri": "https://localhost:8080/"
        },
        "id": "Ik8-tOsiSIKT",
        "outputId": "8d1326c7-64fb-4ba6-dcd3-d416efa0987f"
      },
      "execution_count": 8,
      "outputs": [
        {
          "output_type": "stream",
          "name": "stdout",
          "text": [
            "0.4399338661568968\n",
            "[  -9.15865318 -205.45432163  516.69374454  340.61999905 -895.5520019\n",
            "  561.22067904  153.89310954  126.73139688  861.12700152   52.42112238]\n",
            "151.88331005254167\n"
          ]
        }
      ]
    },
    {
      "cell_type": "code",
      "source": [
        "r = Ridge(alpha=0.1)\n",
        "r.fit(X_train,y_train)\n",
        "y_pred = r.predict(X_test)\n",
        "print(r2_score(y_test,y_pred))\n",
        "print(r.coef_)\n",
        "print(r.intercept_)"
      ],
      "metadata": {
        "id": "5oMADV8tSKKl",
        "colab": {
          "base_uri": "https://localhost:8080/"
        },
        "outputId": "e1b4c752-38aa-42ef-82c0-35ed9a559fd3"
      },
      "execution_count": 9,
      "outputs": [
        {
          "output_type": "stream",
          "name": "stdout",
          "text": [
            "0.45199494197195456\n",
            "[   6.64373321 -172.23747375  485.52958514  314.67584612  -72.94020918\n",
            "  -80.58868817 -174.46352722   83.61470987  484.36531622   73.58509056]\n",
            "151.92546856900984\n"
          ]
        }
      ]
    },
    {
      "cell_type": "code",
      "source": [
        "r = Lasso(alpha=0.01)\n",
        "r.fit(X_train,y_train)\n",
        "y_pred = r.predict(X_test)\n",
        "print(r2_score(y_test,y_pred))\n",
        "print(r.coef_)\n",
        "print(r.intercept_)"
      ],
      "metadata": {
        "colab": {
          "base_uri": "https://localhost:8080/"
        },
        "id": "XgzkvjNYSM8L",
        "outputId": "4c7c9be9-bcb0-4505-8523-2a545d3cd30d"
      },
      "execution_count": 10,
      "outputs": [
        {
          "output_type": "stream",
          "name": "stdout",
          "text": [
            "0.44111855963110613\n",
            "[  -1.35972089 -192.93718018  526.35651446  332.6411011  -430.22697505\n",
            "  191.29547987  -44.03491271   68.98898658  688.39602778   47.94061621]\n",
            "151.87686450031345\n"
          ]
        }
      ]
    },
    {
      "cell_type": "code",
      "source": [
        "r = ElasticNet(alpha=0.005,l1_ratio=0.9)\n",
        "r.fit(X_train,y_train)\n",
        "y_pred = r.predict(X_test)\n",
        "print(r2_score(y_test,y_pred))\n",
        "print(r.coef_)\n",
        "print(r.intercept_)\n"
      ],
      "metadata": {
        "colab": {
          "base_uri": "https://localhost:8080/"
        },
        "id": "MbdoPw1ESO5U",
        "outputId": "bd39ee6a-9b20-4b92-cea6-694a18272336"
      },
      "execution_count": 11,
      "outputs": [
        {
          "output_type": "stream",
          "name": "stdout",
          "text": [
            "0.4531474541554823\n",
            "[  12.94146674 -150.63182716  454.70979985  297.41151019  -40.62996867\n",
            "  -82.61311124 -175.79746592   88.72693272  438.79775539   81.84968777]\n",
            "151.92650042509422\n"
          ]
        }
      ]
    },
    {
      "cell_type": "code",
      "source": [
        "from sklearn.pipeline import Pipeline\n",
        "from sklearn.preprocessing import PolynomialFeatures\n",
        "from sklearn.linear_model import Ridge\n",
        "\n",
        "def get_preds_lasso(x1,x2,alpha):\n",
        "  model = Pipeline([\n",
        "      ('poly_feats',PolynomialFeatures(degree=16)),\n",
        "       ('lasso',Lasso(alpha=alpha))\n",
        "  ])\n",
        "  model.fit(x1,x2)\n",
        "  return model.predict(x1)\n",
        "\n",
        "alphas=[0,0.1,1]\n",
        "cs = ['r','g','b']\n",
        "\n",
        "plt.figure(figsize=(10,6))\n",
        "plt.plot(x1, x2,'b+',label = 'Datapoints')\n",
        "\n",
        "for alpha,c in zip(alphas,cs):\n",
        "  preds = get_preds_lasso(x1,x2,alpha)\n",
        "  plt.plot(sorted(x1[:,0]),preds[np.argsort(x1[:,0])],c,label='Alpha: {}'.format(alpha))\n",
        "\n",
        "plt.legend()\n",
        "plt.show()\n",
        "\n"
      ],
      "metadata": {
        "id": "skRspPnBSeud"
      },
      "execution_count": null,
      "outputs": []
    }
  ]
}